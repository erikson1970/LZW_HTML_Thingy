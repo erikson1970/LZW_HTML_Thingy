{
 "cells": [
  {
   "cell_type": "code",
   "execution_count": 1,
   "metadata": {},
   "outputs": [],
   "source": [
    "def compress(uncompressed):\n",
    "    \"\"\"Compress a string to a list of output symbols.\"\"\"\n",
    "\n",
    "    # Build the dictionary.\n",
    "    dict_size = 256\n",
    "    dictionary = dict((chr(i), i) for i in range(dict_size))\n",
    "    # in Python 3: dictionary = {chr(i): i for i in range(dict_size)}\n",
    "\n",
    "    w = \"\"\n",
    "    result = []\n",
    "    for c in uncompressed:\n",
    "        wc = w + c\n",
    "        if wc in dictionary:\n",
    "            w = wc\n",
    "        else:\n",
    "            result.append(dictionary[w])\n",
    "            # Add wc to the dictionary.\n",
    "            dictionary[wc] = dict_size\n",
    "            dict_size += 1\n",
    "            w = c\n",
    "\n",
    "    # Output the code for w.\n",
    "    if w:\n",
    "        result.append(dictionary[w])\n",
    "    return result\n",
    "\n",
    "\n",
    "def decompress(compressed):\n",
    "    \"\"\"Decompress a list of output ks to a string.\"\"\"\n",
    "    from io import StringIO\n",
    "\n",
    "    # Build the dictionary.\n",
    "    dict_size = 256\n",
    "    dictionary = dict((i, chr(i)) for i in range(dict_size))\n",
    "    # in Python 3: dictionary = {i: chr(i) for i in range(dict_size)}\n",
    "\n",
    "    # use StringIO, otherwise this becomes O(N^2)\n",
    "    # due to string concatenation in a loop\n",
    "    result = StringIO()\n",
    "    w = chr(compressed.pop(0))\n",
    "    result.write(w)\n",
    "    for k in compressed:\n",
    "        if k in dictionary:\n",
    "            entry = dictionary[k]\n",
    "        elif k == dict_size:\n",
    "            entry = w + w[0]\n",
    "        else:\n",
    "            raise ValueError('Bad compressed k: %s' % k)\n",
    "        result.write(entry)\n",
    "\n",
    "        # Add w+entry[0] to the dictionary.\n",
    "        dictionary[dict_size] = w + entry[0]\n",
    "        dict_size += 1\n",
    "\n",
    "        w = entry\n",
    "    return result.getvalue()\n",
    "\n"
   ]
  },
  {
   "cell_type": "code",
   "execution_count": 2,
   "metadata": {},
   "outputs": [
    {
     "name": "stdout",
     "output_type": "stream",
     "text": [
      "[84, 79, 66, 69, 79, 82, 78, 79, 84, 256, 258, 260, 265, 259, 261, 263]\n",
      "TOBEORNOTTOBEORTOBEORNOT\n"
     ]
    }
   ],
   "source": [
    "\n",
    "# How to use:\n",
    "compressed = compress('TOBEORNOTTOBEORTOBEORNOT')\n",
    "print (compressed)\n",
    "decompressed = decompress(compressed)\n",
    "print (decompressed)"
   ]
  },
  {
   "cell_type": "code",
   "execution_count": 12,
   "metadata": {},
   "outputs": [
    {
     "name": "stdout",
     "output_type": "stream",
     "text": [
      "fff length: 2764\n",
      "fffEnc length: 3688\n",
      "fffComp length: 1308\n",
      "fffCompEnc length: 1744\n"
     ]
    }
   ],
   "source": [
    "import textwrap,base64,zlib\n",
    "\n",
    "fff=\"\"\"Lorem ipsum est nibh dui lobortis ornare dolor turpis et, \n",
    "metus fermentum conubia donec imperdiet libero ornare ligula, \n",
    "praesent donec nam lacus a litora in cubilia. Euismod nostra \n",
    "bibendum litora dictumst porttitor est ac nisi, auctor enim \n",
    "ligula potenti suspendisse rhoncus turpis hac ultricies, euismod\n",
    " posuere porttitor aliquam molestie curabitur fusce. Primis \n",
    " maecenas aenean porttitor eu consectetur vulputate turpis vel \n",
    " integer phasellus, fermentum mattis imperdiet sem luctus mi \n",
    " pretium etiam nisl tellus cubilia, vestibulum ut lacinia \n",
    " eleifend quisque massa egestas luctus congue.\n",
    "\n",
    "Odio netus volutpat neque id curabitur fames eget, arcu \n",
    "imperdiet varius felis sagittis elit sit, mattis sapien tristique \n",
    "consequat habitasse amet. Tempus mattis urna gravida justo convallis \n",
    "urna imperdiet himenaeos feugiat aenean, justo phasellus habitant \n",
    "mollis tortor gravida nec interdum. Nisl nec ut potenti himenaeos \n",
    "hendrerit tortor, tristique consectetur potenti aptent augue consequat, \n",
    "lorem leo scelerisque tincidunt dapibus. Odio accumsan tempor aptent \n",
    "massa tortor odio eleifend leo, convallis ligula curae rhoncus lacinia \n",
    "taciti eget ut sodales, facilisis sollicitudin hendrerit sit quam nibh erat.\n",
    "                             \n",
    "The scenario described by Welch's 1984 paper[1] encodes sequences of 8-bit data \n",
    "as fixed-length 12-bit codes. The codes from 0 to 255 represent 1-character \n",
    "sequences consisting of the corresponding 8-bit character, and the codes 256 \n",
    "through 4095 are created in a dictionary for sequences encountered in the data\n",
    "as it is encoded. At each stage in compression, input bytes are gathered into a \n",
    "sequence until the next character would make a sequence with no code \n",
    "yet in the dictionary. The code for the sequence (without that character)\n",
    "is added to the output, and a new code (for the sequence with that character) \n",
    "is added to the dictionary.\n",
    "\n",
    "The idea was quickly adapted to other situations. In an image based on a color table, \n",
    "for example, the natural character alphabet is the set of color table indexes, and \n",
    "in the 1980s, many images had small color tables (on the order of 16 colors). For \n",
    "such a reduced alphabet, the full 12-bit codes yielded poor compression unless the \n",
    "image was large, so the idea of a variable-width code was introduced: codes typically\n",
    "start one bit wider than the symbols being encoded, and as each code size is used up, \n",
    "the code width increases by 1 bit, up to some prescribed maximum (typically 12 bits).\n",
    "When the maximum code value is reached, encoding proceeds using the existing table, but \n",
    "new codes are not generated for addition to the table. \n",
    "\"\"\"\n",
    "fff='<br>'.join(fff.split('\\n'))\n",
    "fffEnc=base64.b64encode(fff.encode('utf-8'))\n",
    "print(f\"fff length: {len(fff)}\")\n",
    "print(f\"fffEnc length: {len(fffEnc)}\")\n",
    "fffComp=zlib.compress(fff.encode('utf-8'))\n",
    "print(f\"fffComp length: {len(fffComp)}\")\n",
    "fffCompEnc=base64.b64encode(fffComp)\n",
    "print(f\"fffCompEnc length: {len(fffCompEnc)}\")"
   ]
  },
  {
   "cell_type": "code",
   "execution_count": null,
   "metadata": {},
   "outputs": [],
   "source": []
  }
 ],
 "metadata": {
  "kernelspec": {
   "display_name": "newSolarRadio",
   "language": "python",
   "name": "python3"
  },
  "language_info": {
   "codemirror_mode": {
    "name": "ipython",
    "version": 3
   },
   "file_extension": ".py",
   "mimetype": "text/x-python",
   "name": "python",
   "nbconvert_exporter": "python",
   "pygments_lexer": "ipython3",
   "version": "3.10.12"
  }
 },
 "nbformat": 4,
 "nbformat_minor": 2
}
